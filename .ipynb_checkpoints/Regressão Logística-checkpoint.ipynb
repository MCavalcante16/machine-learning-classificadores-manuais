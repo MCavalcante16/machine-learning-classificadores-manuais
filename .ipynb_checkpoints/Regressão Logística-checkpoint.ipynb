{
 "cells": [
  {
   "cell_type": "code",
   "execution_count": 1,
   "metadata": {},
   "outputs": [],
   "source": [
    "import maurikit_learn as ml\n",
    "import numpy as np\n",
    "from sklearn.model_selection import train_test_split"
   ]
  },
  {
   "cell_type": "markdown",
   "metadata": {},
   "source": [
    "# Dados"
   ]
  },
  {
   "cell_type": "code",
   "execution_count": 2,
   "metadata": {},
   "outputs": [],
   "source": [
    "#Embaralha dados\n",
    "dados = np.loadtxt(\"ex2data1.txt\", delimiter=\",\")\n",
    "\n",
    "#Embaralhando as amostras\n",
    "np.random.shuffle(dados)\n",
    "\n",
    "#Separa dados\n",
    "X = dados[:,0:2]\n",
    "y = dados[:,2]\n",
    "\n",
    "#Normalização\n",
    "X = (X - X.min()) / (X.max() - X.min())\n",
    "\n",
    "#Separação de conjunto de treino e conjunto de teste\n",
    "X_train, X_test, y_train, y_test = train_test_split(X, y, test_size=0.3)"
   ]
  },
  {
   "cell_type": "code",
   "execution_count": 3,
   "metadata": {},
   "outputs": [
    {
     "data": {
      "text/plain": [
       "array([[0.84357013, 0.56966484],\n",
       "       [0.4610047 , 0.31535723],\n",
       "       [0.        , 0.27998311],\n",
       "       [0.2153456 , 0.37634961],\n",
       "       [0.67557495, 0.57904452],\n",
       "       [0.71981433, 0.88946677],\n",
       "       [0.97052763, 0.81223711],\n",
       "       [0.74887421, 0.66538315],\n",
       "       [0.44500891, 0.95246556],\n",
       "       [0.86697331, 0.19108447],\n",
       "       [0.56336978, 0.96976931],\n",
       "       [0.53405404, 0.52359231],\n",
       "       [0.43570996, 0.61683776],\n",
       "       [0.43567657, 0.17844   ],\n",
       "       [0.60610945, 0.94839738],\n",
       "       [0.08296784, 0.61407436],\n",
       "       [0.17223446, 0.69924951],\n",
       "       [0.3080005 , 0.24075821],\n",
       "       [0.35225201, 0.31754866],\n",
       "       [0.4125345 , 0.65644631],\n",
       "       [0.7019434 , 0.64907812],\n",
       "       [0.63337365, 0.56996271],\n",
       "       [0.31947097, 0.4401764 ],\n",
       "       [0.58195856, 0.90109194],\n",
       "       [0.05527778, 0.98626293],\n",
       "       [0.91782133, 0.67508863],\n",
       "       [0.31513382, 0.56434832],\n",
       "       [0.14588236, 0.58921448],\n",
       "       [0.94315096, 0.11704986],\n",
       "       [0.48704268, 0.68759537],\n",
       "       [0.63687092, 0.78525257],\n",
       "       [0.30083445, 0.22594377],\n",
       "       [0.20939718, 0.5215962 ],\n",
       "       [0.14904504, 0.96713911],\n",
       "       [0.24660577, 0.83729182],\n",
       "       [0.64112153, 0.16503873],\n",
       "       [1.        , 0.60643564],\n",
       "       [0.3160307 , 0.47397533],\n",
       "       [0.36439287, 0.07900182],\n",
       "       [0.06400678, 0.43482786],\n",
       "       [0.06542784, 0.68749511],\n",
       "       [0.12508388, 0.5007502 ],\n",
       "       [0.05912103, 0.64754941],\n",
       "       [0.36235552, 0.49983657],\n",
       "       [0.17490393, 0.81762673],\n",
       "       [0.99264933, 0.55492507],\n",
       "       [0.96872217, 0.55616005],\n",
       "       [0.64093004, 0.85239806],\n",
       "       [0.00326632, 0.19831398],\n",
       "       [0.64981247, 0.7983644 ],\n",
       "       [0.90377581, 0.12529696],\n",
       "       [0.5430494 , 0.238211  ],\n",
       "       [0.77174023, 0.37623028],\n",
       "       [0.34273413, 0.8477762 ],\n",
       "       [0.45537943, 0.28948781],\n",
       "       [0.46169753, 0.57182438],\n",
       "       [0.86556634, 0.82343075],\n",
       "       [0.55052645, 0.79599043],\n",
       "       [0.71853306, 0.21159539],\n",
       "       [0.27989286, 0.42640877],\n",
       "       [0.29348214, 0.26941736],\n",
       "       [0.8569272 , 0.21928727],\n",
       "       [0.38956944, 0.42218528],\n",
       "       [0.13586997, 0.65900278],\n",
       "       [0.45886031, 0.95615485],\n",
       "       [0.65098907, 0.86522218],\n",
       "       [0.03818328, 0.18988869],\n",
       "       [0.27252406, 0.3128091 ],\n",
       "       [0.03609592, 0.93938127],\n",
       "       [0.77934283, 0.1931311 ]])"
      ]
     },
     "execution_count": 3,
     "metadata": {},
     "output_type": "execute_result"
    }
   ],
   "source": [
    "X_train"
   ]
  },
  {
   "cell_type": "code",
   "execution_count": 4,
   "metadata": {},
   "outputs": [
    {
     "data": {
      "text/plain": [
       "array([1., 0., 0., 0., 1., 1., 1., 1., 1., 1., 1., 1., 1., 0., 1., 0., 0.,\n",
       "       0., 0., 1., 1., 1., 0., 1., 0., 1., 1., 0., 0., 1., 1., 0., 0., 1.,\n",
       "       1., 0., 1., 0., 0., 0., 0., 0., 0., 1., 1., 1., 1., 1., 0., 1., 0.,\n",
       "       0., 1., 1., 0., 1., 1., 1., 1., 0., 0., 1., 1., 0., 1., 1., 0., 0.,\n",
       "       0., 1.])"
      ]
     },
     "execution_count": 4,
     "metadata": {},
     "output_type": "execute_result"
    }
   ],
   "source": [
    "y_train"
   ]
  },
  {
   "cell_type": "markdown",
   "metadata": {},
   "source": [
    "# Usando Gradiente Descendente"
   ]
  },
  {
   "cell_type": "code",
   "execution_count": 5,
   "metadata": {},
   "outputs": [],
   "source": [
    "LRG = ml.LogisticRegression_GRAD()"
   ]
  },
  {
   "cell_type": "code",
   "execution_count": 6,
   "metadata": {},
   "outputs": [
    {
     "name": "stdout",
     "output_type": "stream",
     "text": [
      "[1. 1. 1.]\n",
      "Coeficientes: [-1.49461203  2.16877277  1.58970314]\n"
     ]
    }
   ],
   "source": [
    "LRG.fit(X_train, y_train, learning_rate=0.2, epochs=200)"
   ]
  },
  {
   "cell_type": "code",
   "execution_count": 7,
   "metadata": {},
   "outputs": [],
   "source": [
    "y_pred = LRG.predict(X_test)"
   ]
  },
  {
   "cell_type": "markdown",
   "metadata": {},
   "source": [
    "### Acurácia"
   ]
  },
  {
   "cell_type": "code",
   "execution_count": 8,
   "metadata": {},
   "outputs": [
    {
     "data": {
      "text/plain": [
       "0.9333333333333333"
      ]
     },
     "execution_count": 8,
     "metadata": {},
     "output_type": "execute_result"
    }
   ],
   "source": [
    "ml.acuracia(y_test, y_pred)"
   ]
  }
 ],
 "metadata": {
  "kernelspec": {
   "display_name": "Python 3",
   "language": "python",
   "name": "python3"
  },
  "language_info": {
   "codemirror_mode": {
    "name": "ipython",
    "version": 3
   },
   "file_extension": ".py",
   "mimetype": "text/x-python",
   "name": "python",
   "nbconvert_exporter": "python",
   "pygments_lexer": "ipython3",
   "version": "3.6.10"
  }
 },
 "nbformat": 4,
 "nbformat_minor": 4
}
